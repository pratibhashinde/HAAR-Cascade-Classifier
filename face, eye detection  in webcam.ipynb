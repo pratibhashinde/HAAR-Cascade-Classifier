{
 "cells": [
  {
   "cell_type": "markdown",
   "metadata": {},
   "source": [
    "### HAAR Cascade classifier-face and eye detection from video"
   ]
  },
  {
   "cell_type": "code",
   "execution_count": 1,
   "metadata": {},
   "outputs": [],
   "source": [
    "import numpy as np\n",
    "import cv2"
   ]
  },
  {
   "cell_type": "code",
   "execution_count": 2,
   "metadata": {},
   "outputs": [],
   "source": [
    "#loading models\n",
    "face_model=cv2.CascadeClassifier('haarcascade_frontalface_default.xml')\n",
    "eye_model = cv2.CascadeClassifier('haarcascade_eye.xml')\n",
    "\n",
    "\n",
    "def detect(gray,frame):\n",
    "    faces=face_model.detectMultiScale(gray,1.3,5)\n",
    "    for (x,y,w,h) in faces:\n",
    "        cv2.rectangle(frame,(x,y),(x+w,y+h),(255,0,0),2)\n",
    "        gray1=gray[y:y+h,x:x+w]\n",
    "        frame1=frame[y:y+h,x:x+w]\n",
    "        eyes=eye_model.detectMultiScale(gray1,1.1,3)\n",
    "        for (x1,y1,w1,h1) in eyes:\n",
    "            cv2.rectangle(frame1,(x1,y1),(x1+w1,y1+h1),(0,255,0),2)\n",
    "    return frame\n",
    "#capturing frames from webcam\n",
    "video=cv2.VideoCapture(0)\n",
    "while True:\n",
    "    _,frame=video.read()\n",
    "    gray=cv2.cvtColor(frame,cv2.COLOR_BGR2GRAY)\n",
    "    canvas=detect(gray,frame)\n",
    "    cv2.imshow('video',canvas)\n",
    "    if cv2.waitKey(1) & 0xFF==ord('q'):\n",
    "        break\n",
    "video.release()\n",
    "cv2.destroyAllWindows()\n"
   ]
  },
  {
   "cell_type": "code",
   "execution_count": null,
   "metadata": {},
   "outputs": [],
   "source": []
  }
 ],
 "metadata": {
  "kernelspec": {
   "display_name": "Python 3",
   "language": "python",
   "name": "python3"
  },
  "language_info": {
   "codemirror_mode": {
    "name": "ipython",
    "version": 3
   },
   "file_extension": ".py",
   "mimetype": "text/x-python",
   "name": "python",
   "nbconvert_exporter": "python",
   "pygments_lexer": "ipython3",
   "version": "3.7.7"
  }
 },
 "nbformat": 4,
 "nbformat_minor": 4
}
